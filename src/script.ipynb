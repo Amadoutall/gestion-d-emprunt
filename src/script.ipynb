{
 "cells": [
  {
   "cell_type": "markdown",
   "metadata": {},
   "source": [
    "   # PROJET EXAMEN TERMINAL: OUTILS BIG DATA"
   ]
  },
  {
   "cell_type": "markdown",
   "metadata": {},
   "source": [
    "##### Importation des librairies"
   ]
  },
  {
   "cell_type": "code",
   "execution_count": 1,
   "metadata": {},
   "outputs": [],
   "source": [
    "from pyspark.sql import SparkSession\n",
    "from pyspark.sql import functions as F\n",
    "from pyspark.sql import SparkSession\n",
    "from pyspark import SparkContext, SparkConf \n",
    "from pyspark.sql.functions import col\n",
    "from pyspark.sql.types import IntegerType\n",
    "\n"
   ]
  },
  {
   "cell_type": "markdown",
   "metadata": {},
   "source": [
    "#### Instanciation de la Spark Session"
   ]
  },
  {
   "cell_type": "code",
   "execution_count": 130,
   "metadata": {},
   "outputs": [],
   "source": [
    "spark = SparkSession.builder.master(\"local\").appName(\"gestion d’emprunt\").getOrCreate()"
   ]
  },
  {
   "cell_type": "markdown",
   "metadata": {},
   "source": [
    "#### Question 0: Création des tables"
   ]
  },
  {
   "cell_type": "code",
   "execution_count": 134,
   "metadata": {},
   "outputs": [
    {
     "name": "stdout",
     "output_type": "stream",
     "text": [
      "+-----+-----------------+\n",
      "|  aid|             name|\n",
      "+-----+-----------------+\n",
      "|07890| Jean Paul Sartre|\n",
      "|05678|Pierre de Ronsard|\n",
      "+-----+-----------------+\n",
      "\n"
     ]
    },
    {
     "data": {
      "text/plain": [
       "[('aid', 'string'), ('name', 'string')]"
      ]
     },
     "execution_count": 134,
     "metadata": {},
     "output_type": "execute_result"
    }
   ],
   "source": [
    "# création de la base Author\n",
    "l1 = [('07890','Jean Paul Sartre'),('05678','Pierre de Ronsard')]\n",
    "rdd1 = spark.sparkContext.parallelize(l1) #On obtient un rdd\n",
    "Author = rdd1.toDF(['aid','name'])\n",
    "Author.createOrReplaceTempView('AuthorSQL') # transformation du data frame en table sql !!!!\n",
    "Author.show()\n",
    "Author.dtypes # retourne nom des colonnes et leurs types"
   ]
  },
  {
   "cell_type": "code",
   "execution_count": 135,
   "metadata": {},
   "outputs": [
    {
     "name": "stdout",
     "output_type": "stream",
     "text": [
      "+----+--------------------+-----------+\n",
      "| bid|               title|   category|\n",
      "+----+--------------------+-----------+\n",
      "|0001|L'existentialisme...|Philosophie|\n",
      "|0002|Huis clos. Suivi ...|Philosophie|\n",
      "|0003|Mignonne allons v...|      Poème|\n",
      "|0004|          Les Amours|      Poème|\n",
      "+----+--------------------+-----------+\n",
      "\n"
     ]
    },
    {
     "data": {
      "text/plain": [
       "[('bid', 'string'), ('title', 'string'), ('category', 'string')]"
      ]
     },
     "execution_count": 135,
     "metadata": {},
     "output_type": "execute_result"
    }
   ],
   "source": [
    "# création de la base Book\n",
    "l2 = [('0001',\"L'existentialisme est un humanisme\",'Philosophie'),('0002','Huis clos. Suivi de Les Mouches','Philosophie'),('0003','Mignonne allons voir si la rose','Poème'),('0004','Les Amours','Poème')]\n",
    "rdd2 = spark.sparkContext.parallelize(l2) #On obtient un rdd\n",
    "Book = rdd2.toDF(['bid','title','category'])\n",
    "Book.createOrReplaceTempView('BookSQL')# transformation du data frame en table sql !!!!\n",
    "Book.show()\n",
    "Book.dtypes # retourne nom des colonnes et leurs types"
   ]
  },
  {
   "cell_type": "code",
   "execution_count": 5,
   "metadata": {},
   "outputs": [
    {
     "name": "stdout",
     "output_type": "stream",
     "text": [
      "+---+-----+---------+\n",
      "|sid|sname|     dept|\n",
      "+---+-----+---------+\n",
      "|S15| toto|     Math|\n",
      "|S16| popo|      Eco|\n",
      "|S17| fofo|Mécanique|\n",
      "+---+-----+---------+\n",
      "\n"
     ]
    }
   ],
   "source": [
    "# création de la base Student \n",
    "l3 = [('S15','toto','Math'),('S16','popo','Eco'),('S17','fofo','Mécanique')]\n",
    "rdd3 = spark.sparkContext.parallelize(l3) #On obtient un rdd\n",
    "Student = rdd3.toDF(['sid','sname','dept'])\n",
    "Student.createOrReplaceTempView('StudentSQL')# transformation du data frame en table sql !!!!\n",
    "Student.show()\n",
    "Student.dtypes # retourne nom des colonnes et leurs types"
   ]
  },
  {
   "cell_type": "code",
   "execution_count": 137,
   "metadata": {},
   "outputs": [
    {
     "name": "stdout",
     "output_type": "stream",
     "text": [
      "+-----+----+\n",
      "|  aid| bid|\n",
      "+-----+----+\n",
      "|07890|0001|\n",
      "|07890|0002|\n",
      "|05678|0003|\n",
      "|05678|0003|\n",
      "+-----+----+\n",
      "\n"
     ]
    },
    {
     "data": {
      "text/plain": [
       "[('aid', 'string'), ('bid', 'string')]"
      ]
     },
     "execution_count": 137,
     "metadata": {},
     "output_type": "execute_result"
    }
   ],
   "source": [
    "# création de la base Write \n",
    "l4 = [('07890','0001'),('07890','0002'),('05678','0003'),('05678','0003')]\n",
    "rdd4 = spark.sparkContext.parallelize(l4) #On obtient un rdd\n",
    "Write = rdd4.toDF(['aid','bid'])\n",
    "Write.createOrReplaceTempView('WriteSQL')# transformation du data frame en table sql !!!!\n",
    "Write.show()\n",
    "Write.dtypes # retourne nom des colonnes et leurs types"
   ]
  },
  {
   "cell_type": "code",
   "execution_count": 136,
   "metadata": {},
   "outputs": [
    {
     "name": "stdout",
     "output_type": "stream",
     "text": [
      "+---+----+-------------+-----------+\n",
      "|sid| bid|checkout_time|return_time|\n",
      "+---+----+-------------+-----------+\n",
      "|S15|0003|   02-01-2020| 01-02-2020|\n",
      "|S15|0002|   13-06-2020|       null|\n",
      "|S15|0001|   13-06-2020| 13-10-2020|\n",
      "|S16|0002|   24-01-2020| 24-01-2020|\n",
      "|S17|0001|   12-04-2020| 01-07-2020|\n",
      "+---+----+-------------+-----------+\n",
      "\n"
     ]
    },
    {
     "data": {
      "text/plain": [
       "[('sid', 'string'),\n",
       " ('bid', 'string'),\n",
       " ('checkout_time', 'string'),\n",
       " ('return_time', 'string')]"
      ]
     },
     "execution_count": 136,
     "metadata": {},
     "output_type": "execute_result"
    }
   ],
   "source": [
    "# création de la base Borrow  \n",
    "l5 = [('S15','0003','02-01-2020','01-02-2020'),('S15','0002','13-06-2020',None),('S15','0001','13-06-2020','13-10-2020'),('S16','0002','24-01-2020','24-01-2020'),('S17','0001','12-04-2020','01-07-2020')]\n",
    "rdd5 = spark.sparkContext.parallelize(l5) #On obtient un rdd\n",
    "Borrow = rdd5.toDF(['sid','bid','checkout_time','return_time'])\n",
    "Borrow.createOrReplaceTempView('BorrowSQL')# transformation du data frame en table sql !!!!\n",
    "Borrow.show()\n",
    "Borrow.dtypes # retourne nom des colonnes et leurs types"
   ]
  },
  {
   "cell_type": "raw",
   "metadata": {},
   "source": [
    "Question 1: les titres de tous les livres que l'étudiant sid='S15' a emprunté"
   ]
  },
  {
   "cell_type": "code",
   "execution_count": 86,
   "metadata": {},
   "outputs": [
    {
     "name": "stdout",
     "output_type": "stream",
     "text": [
      "+---+--------------------+\n",
      "|sid|               title|\n",
      "+---+--------------------+\n",
      "|S15|Huis clos. Suivi ...|\n",
      "|S15|Mignonne allons v...|\n",
      "|S15|L'existentialisme...|\n",
      "+---+--------------------+\n",
      "\n"
     ]
    }
   ],
   "source": [
    "### DSL donc en spark\n",
    "Borrow.join(Book ,['bid']) \\\n",
    "    .select('sid','title') \\\n",
    "    .filter(F.col(\"sid\") == 'S15') \\\n",
    "    .show()"
   ]
  },
  {
   "cell_type": "code",
   "execution_count": 87,
   "metadata": {
    "scrolled": false
   },
   "outputs": [
    {
     "name": "stdout",
     "output_type": "stream",
     "text": [
      "+---+--------------------+\n",
      "|sid|               title|\n",
      "+---+--------------------+\n",
      "|S15|Huis clos. Suivi ...|\n",
      "|S15|Mignonne allons v...|\n",
      "|S15|L'existentialisme...|\n",
      "+---+--------------------+\n",
      "\n",
      "+---+--------------------+\n",
      "|sid|               title|\n",
      "+---+--------------------+\n",
      "|S15|Huis clos. Suivi ...|\n",
      "|S15|Mignonne allons v...|\n",
      "|S15|L'existentialisme...|\n",
      "+---+--------------------+\n",
      "\n"
     ]
    }
   ],
   "source": [
    "### SQL solution 1:\n",
    "spark.sql(\"\"\"select sid, title\n",
    "             from BorrowSQL as t1 \n",
    "             join BookSQL as t2 \n",
    "             on t1.bid=t2.bid \n",
    "             where t1.sid='S15' \"\"\").show()\n",
    "\n",
    "### SQL solution 2:\n",
    "spark.sql(\"\"\"select sid, title\n",
    "             from BorrowSQL as t1,\n",
    "             BookSQL as t2 \n",
    "             where t1.bid=t2.bid and t1.sid='S15' \"\"\").show()"
   ]
  },
  {
   "cell_type": "markdown",
   "metadata": {},
   "source": [
    "#### Question 2: les titres de tous les livres qui n'ont jamais été empruntés par un étudiant."
   ]
  },
  {
   "cell_type": "code",
   "execution_count": 88,
   "metadata": {
    "scrolled": true
   },
   "outputs": [
    {
     "name": "stdout",
     "output_type": "stream",
     "text": [
      "+----+----------+\n",
      "| bid|     title|\n",
      "+----+----------+\n",
      "|0004|Les Amours|\n",
      "+----+----------+\n",
      "\n"
     ]
    }
   ],
   "source": [
    "### DSL\n",
    "\n",
    "Book.join(Borrow ,['bid'],how='left_outer') \\\n",
    "    .filter(F.col(\"sid\").isNull())\\\n",
    "    .select('bid', 'title')\\\n",
    "    .show()\n"
   ]
  },
  {
   "cell_type": "code",
   "execution_count": 89,
   "metadata": {},
   "outputs": [
    {
     "name": "stdout",
     "output_type": "stream",
     "text": [
      "+----+----------+\n",
      "| bid|     title|\n",
      "+----+----------+\n",
      "|0004|Les Amours|\n",
      "+----+----------+\n",
      "\n"
     ]
    }
   ],
   "source": [
    "# SQL\n",
    "\n",
    "spark.sql(\"\"\"select t1.bid, t1.title\n",
    "             from BookSQL as t1 \n",
    "             left outer join BorrowSQL as t2 \n",
    "             on t1.bid==t2.bid\n",
    "             where sid is null\"\"\").show()"
   ]
  },
  {
   "cell_type": "markdown",
   "metadata": {},
   "source": [
    "#### Question 3: les étudiants qui ont emprunté le livre bid=’0002’"
   ]
  },
  {
   "cell_type": "code",
   "execution_count": 90,
   "metadata": {},
   "outputs": [
    {
     "name": "stdout",
     "output_type": "stream",
     "text": [
      "+---+-----+----+\n",
      "|sid|sname| bid|\n",
      "+---+-----+----+\n",
      "|S16| popo|0002|\n",
      "|S15| toto|0002|\n",
      "+---+-----+----+\n",
      "\n"
     ]
    }
   ],
   "source": [
    "### DSL\n",
    "\n",
    "Student.join(Borrow ,['sid'],how='inner') \\\n",
    "    .filter(F.col(\"bid\")=='0002')\\\n",
    "    .select('sid','sname','bid')\\\n",
    "    .show()\n"
   ]
  },
  {
   "cell_type": "code",
   "execution_count": 91,
   "metadata": {},
   "outputs": [
    {
     "name": "stdout",
     "output_type": "stream",
     "text": [
      "+---+-----+----+\n",
      "|sid|sname| bid|\n",
      "+---+-----+----+\n",
      "|S16| popo|0002|\n",
      "|S15| toto|0002|\n",
      "+---+-----+----+\n",
      "\n"
     ]
    }
   ],
   "source": [
    "### SQL\n",
    "\n",
    "spark.sql(\"\"\"select t1.sid,t1.sname,t2.bid\n",
    "             from StudentSQL as t1 \n",
    "             join BorrowSQL as t2 \n",
    "             on t1.sid==t2.sid\n",
    "             where t2.bid=='0002' \"\"\").show()"
   ]
  },
  {
   "cell_type": "markdown",
   "metadata": {},
   "source": [
    "#### Question 4: les titres de tous les livres empruntés par des étudiants en Mécanique (département Mécanique)"
   ]
  },
  {
   "cell_type": "code",
   "execution_count": 92,
   "metadata": {},
   "outputs": [
    {
     "name": "stdout",
     "output_type": "stream",
     "text": [
      "+----+--------------------+---------+\n",
      "| bid|               title|     dept|\n",
      "+----+--------------------+---------+\n",
      "|0001|L'existentialisme...|Mécanique|\n",
      "+----+--------------------+---------+\n",
      "\n"
     ]
    }
   ],
   "source": [
    "# DSL\n",
    "Book.join(Borrow, 'bid')\\\n",
    "    .join(Student, 'sid')\\\n",
    "    .select(Book.bid,'title',Student.dept)\\\n",
    "    .filter(F.col('dept')=='Mécanique')\\\n",
    "    .show()"
   ]
  },
  {
   "cell_type": "code",
   "execution_count": 96,
   "metadata": {},
   "outputs": [
    {
     "name": "stdout",
     "output_type": "stream",
     "text": [
      "+----+--------------------+---------+\n",
      "| bid|               title|     dept|\n",
      "+----+--------------------+---------+\n",
      "|0001|L'existentialisme...|Mécanique|\n",
      "+----+--------------------+---------+\n",
      "\n",
      "+----+--------------------+---------+\n",
      "| bid|               title|     dept|\n",
      "+----+--------------------+---------+\n",
      "|0001|L'existentialisme...|Mécanique|\n",
      "+----+--------------------+---------+\n",
      "\n"
     ]
    }
   ],
   "source": [
    "# SQL\n",
    "# Solution 1:\n",
    "spark.sql(\"\"\"select t1.bid,t1.title,t3.dept\n",
    "            from bookSQL as t1\n",
    "            join borrowSQL as t2\n",
    "            on t1.bid = t2.bid\n",
    "            join StudentSQL as t3\n",
    "            on t2.sid = t3.sid\n",
    "            where t3.dept = 'Mécanique' \"\"\").show()\n",
    "\n",
    "# Solution 2: Mais très lent en terme de ressources\n",
    "spark.sql(\"\"\"select t1.bid, t1.title, t3.dept\n",
    "            from bookSQL as t1,\n",
    "            borrowSQL as t2,\n",
    "            StudentSQL as t3\n",
    "            where t1.bid = t2.bid and\n",
    "            t2.sid = t3.sid and\n",
    "            t3.dept = 'Mécanique' \"\"\").show()"
   ]
  },
  {
   "cell_type": "markdown",
   "metadata": {},
   "source": [
    "#### Question 5: les étudiants qui n’ont jamais empruntés de livre"
   ]
  },
  {
   "cell_type": "code",
   "execution_count": 97,
   "metadata": {},
   "outputs": [
    {
     "name": "stdout",
     "output_type": "stream",
     "text": [
      "+---+-----+\n",
      "|sid|sname|\n",
      "+---+-----+\n",
      "+---+-----+\n",
      "\n"
     ]
    }
   ],
   "source": [
    "# DSL\n",
    "Student.join(Borrow, Student.sid==Borrow.sid, how='left')\\\n",
    "    .filter(F.col('sname').isNull())\\\n",
    "    .select(Student.sid,'sname')\\\n",
    "    .show()"
   ]
  },
  {
   "cell_type": "code",
   "execution_count": 98,
   "metadata": {},
   "outputs": [
    {
     "name": "stdout",
     "output_type": "stream",
     "text": [
      "+---+-----+\n",
      "|sid|sname|\n",
      "+---+-----+\n",
      "+---+-----+\n",
      "\n"
     ]
    }
   ],
   "source": [
    "# SQL\n",
    "spark.sql(\"\"\"select t1.sid, t1.sname\n",
    "            from StudentSQL as t1\n",
    "            left join borrowSQL as t2\n",
    "            on t1.sid = t2.sid\n",
    "            where t2.sid is null\"\"\").show()"
   ]
  },
  {
   "cell_type": "markdown",
   "metadata": {},
   "source": [
    "#### Question 6: Déterminer l’auteur qui a écrit le plus de livres"
   ]
  },
  {
   "cell_type": "code",
   "execution_count": 99,
   "metadata": {},
   "outputs": [
    {
     "name": "stdout",
     "output_type": "stream",
     "text": [
      "+-----+----------------+------+\n",
      "|  aid|            name|nombre|\n",
      "+-----+----------------+------+\n",
      "|07890|Jean Paul Sartre|     2|\n",
      "+-----+----------------+------+\n",
      "\n"
     ]
    }
   ],
   "source": [
    "# DSL\n",
    "Author.join(Write, \"aid\") \\\n",
    "    .distinct() \\\n",
    "    .groupBy(\"aid\",\"name\") \\\n",
    "    .agg(F.count(\"bid\").alias(\"nombre\")) \\\n",
    "    .sort(F.col(\"nombre\").desc()) \\\n",
    "    .select(F.first(\"aid\").alias(\"aid\"),F.first(\"name\").alias(\"name\"),F.first(\"nombre\").alias(\"nombre\")) \\\n",
    "    .show()"
   ]
  },
  {
   "cell_type": "code",
   "execution_count": 138,
   "metadata": {},
   "outputs": [
    {
     "name": "stdout",
     "output_type": "stream",
     "text": [
      "+-----+----------------+------+\n",
      "|  aid|            name|nombre|\n",
      "+-----+----------------+------+\n",
      "|07890|Jean Paul Sartre|     2|\n",
      "+-----+----------------+------+\n",
      "\n"
     ]
    }
   ],
   "source": [
    "# SQL \n",
    "spark.sql(\"\"\"select t2.aid, t2.name, count(distinct bid) as nombre\n",
    "            from writeSQL as t1\n",
    "            join AuthorSQL as t2\n",
    "            on t1.aid = t2.aid\n",
    "            group by t2.aid, t2.name\n",
    "            order by nombre desc\n",
    "            LIMIT 1\"\"\").show()"
   ]
  },
  {
   "cell_type": "markdown",
   "metadata": {},
   "source": [
    "##### Question 7:  les personnes qui n’ont pas encore rendu les livres"
   ]
  },
  {
   "cell_type": "code",
   "execution_count": 106,
   "metadata": {},
   "outputs": [
    {
     "name": "stdout",
     "output_type": "stream",
     "text": [
      "+---+-----+\n",
      "|sid|sname|\n",
      "+---+-----+\n",
      "|S15| toto|\n",
      "+---+-----+\n",
      "\n"
     ]
    }
   ],
   "source": [
    "# SQL\n",
    "spark.sql(\"\"\"select t1.sid ,t1.sname\n",
    "            from StudentSQL as t1\n",
    "            join borrowSQL as t2\n",
    "            on t1.sid = t2.sid\n",
    "            where t2.return_time is null \"\"\").show()"
   ]
  },
  {
   "cell_type": "code",
   "execution_count": 107,
   "metadata": {},
   "outputs": [
    {
     "name": "stdout",
     "output_type": "stream",
     "text": [
      "+---+-----+\n",
      "|sid|sname|\n",
      "+---+-----+\n",
      "|S15| toto|\n",
      "+---+-----+\n",
      "\n"
     ]
    }
   ],
   "source": [
    "# DSL\n",
    "Student.join(Borrow, 'sid')\\\n",
    "    .select('sid','sname')\\\n",
    "    .filter(F.col('return_time').isNull())\\\n",
    "    .show()"
   ]
  },
  {
   "cell_type": "markdown",
   "metadata": {},
   "source": [
    "#### Question 8: Création une nouvelle colonne dans la table Borrow qui prend la valeur 1, si la durée d'emprunt est supérieure à 3 mois,  sinon 0.  (utiliser la fonction spark to_date) par la suite faire un export des données en CSV"
   ]
  },
  {
   "cell_type": "code",
   "execution_count": 146,
   "metadata": {},
   "outputs": [],
   "source": [
    "df=Borrow.withColumn(\"check_to_date\", F.to_date(F.col(\"checkout_time\"), \"dd-MM-yyyy\"))\\\n",
    "    .withColumn(\"ret_to_date\", F.to_date(F.col(\"return_time\"), \"dd-MM-yyyy\"))\\\n",
    "    .withColumn(\"Duree\", F.datediff(F.col(\"ret_to_date\"), F.col(\"check_to_date\")))\\\n",
    "    .withColumn(\"3mois+\", (F.when(F.col(\"Duree\")>=90, 1).otherwise(0)))\\\n",
    "    .select(\"sid\", \"bid\", \"checkout_time\", \"return_time\", \"3mois+\")"
   ]
  },
  {
   "cell_type": "code",
   "execution_count": 152,
   "metadata": {},
   "outputs": [],
   "source": [
    "df.toPandas().to_csv(\"../Data/data_file.csv\", header=True)"
   ]
  },
  {
   "cell_type": "markdown",
   "metadata": {},
   "source": [
    "#### Question 9: Déterminer les livres qui n’ont jamais été empruntés"
   ]
  },
  {
   "cell_type": "code",
   "execution_count": 122,
   "metadata": {},
   "outputs": [
    {
     "name": "stdout",
     "output_type": "stream",
     "text": [
      "+----+----------+\n",
      "| bid|     title|\n",
      "+----+----------+\n",
      "|0004|Les Amours|\n",
      "+----+----------+\n",
      "\n"
     ]
    }
   ],
   "source": [
    "# SQL\n",
    "spark.sql(\"\"\"select t1.bid, t1.title\n",
    "            from bookSQL as t1\n",
    "            left join borrowSQL as t2\n",
    "            on t1.bid = t2.bid\n",
    "            where t2.sid is null\"\"\").show()"
   ]
  },
  {
   "cell_type": "code",
   "execution_count": 124,
   "metadata": {},
   "outputs": [
    {
     "name": "stdout",
     "output_type": "stream",
     "text": [
      "+----+----------+\n",
      "| bid|     title|\n",
      "+----+----------+\n",
      "|0004|Les Amours|\n",
      "+----+----------+\n",
      "\n"
     ]
    }
   ],
   "source": [
    "# DSL\n",
    "Book.join(Borrow, Book.bid==Borrow.bid, how='left')\\\n",
    "    .select(Book.bid, 'title')\\\n",
    "    .filter(F.col('sid').isNull())\\\n",
    "    .show()"
   ]
  },
  {
   "cell_type": "code",
   "execution_count": 128,
   "metadata": {},
   "outputs": [],
   "source": [
    "# Stopping SparkSession\n",
    "spark.stop()"
   ]
  }
 ],
 "metadata": {
  "kernelspec": {
   "display_name": "Python 3",
   "language": "python",
   "name": "python3"
  },
  "language_info": {
   "codemirror_mode": {
    "name": "ipython",
    "version": 3
   },
   "file_extension": ".py",
   "mimetype": "text/x-python",
   "name": "python",
   "nbconvert_exporter": "python",
   "pygments_lexer": "ipython3",
   "version": "3.8.5"
  }
 },
 "nbformat": 4,
 "nbformat_minor": 4
}
